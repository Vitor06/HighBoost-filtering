{
 "cells": [
  {
   "attachments": {},
   "cell_type": "markdown",
   "metadata": {},
   "source": [
    "<h1>HighBoost Filtering<h1>"
   ]
  },
  {
   "attachments": {},
   "cell_type": "markdown",
   "metadata": {},
   "source": [
    "Alunos:<br>\n",
    "    Vitor Fernandes Gonçalves da Cruz Ra120116 <br> \n",
    "    Vitor Rodrigues Gôngora RA106769"
   ]
  },
  {
   "attachments": {},
   "cell_type": "markdown",
   "metadata": {},
   "source": [
    "<h2>Introdução<h2>"
   ]
  },
  {
   "attachments": {},
   "cell_type": "markdown",
   "metadata": {},
   "source": [
    "O presente trabalho tem como objetivo receber uma imagem de entrada e aplicar o método  HighBoost Filter através da linguagem de programação python, utilizando o método unsharping mask. Esse método consite em subtrair a imagem suavizada da imagem original. Os passos podem ser descritos da seguinte forma:<br>\n",
    "1. Blur da imagem original através do filtro da média.\n",
    "2. Subtração da imagem suavizada com imagem original resultando em uma máscara(g_mask).\n",
    "3. Multiplicação de um escalar k com g_mask.\n",
    "4. Soma da imagem original com o passo 3.\n",
    "\n",
    "Para aplicar a suavização na imagem, é necessário o conceito de convolução, que é o processo de mover uma máscara, ou kernel, pela imagem e calcular a soma do produto ponto a ponto entre a imagem e a máscara rebatida. Uma máscara rebatida é basicamente uma inversão da máscara original, representada por g̅(x, y) = g(-x, -y). Para se ter o high boost filtering precisa-se que k>1"
   ]
  },
  {
   "cell_type": "code",
   "execution_count": 385,
   "metadata": {},
   "outputs": [],
   "source": [
    "import numpy as np\n",
    "import  cv2\n",
    "import matplotlib.pyplot as plt\n"
   ]
  },
  {
   "cell_type": "code",
   "execution_count": 386,
   "metadata": {},
   "outputs": [],
   "source": [
    "#Rebate a máscara\n",
    "def inverse_mask(mask):\n",
    "    mask = np.flipud(np.fliplr(mask))\n",
    "    return mask"
   ]
  },
  {
   "cell_type": "code",
   "execution_count": 387,
   "metadata": {},
   "outputs": [],
   "source": [
    "def average_filter(mask):\n",
    "    total = np.sum(mask)\n",
    "    result_mask = mask/total\n",
    "    return result_mask"
   ]
  },
  {
   "cell_type": "code",
   "execution_count": 388,
   "metadata": {},
   "outputs": [],
   "source": [
    "def create_mask(n):\n",
    "    return np.ones((n,n))"
   ]
  },
  {
   "cell_type": "code",
   "execution_count": 389,
   "metadata": {},
   "outputs": [],
   "source": [
    "\n",
    "def highBoost(image, mask,k,input_user):\n",
    "    mask_average_filter = average_filter(mask)\n",
    "    mask = inverse_mask(mask_average_filter) # rebate a mascara\n",
    "\n",
    "    #Faz a convolução \n",
    "    image_blur = cv2.filter2D(image,-1,mask_average_filter,borderType=cv2.BORDER_CONSTANT)\n",
    "\n",
    "    # Subtração\n",
    "    g_mask = image.astype(float) - image_blur.astype(float)\n",
    "\n",
    "    # Multiplicação por um escalar 'k'\n",
    "    mult = (k * g_mask)\n",
    "\n",
    "    # Adição\n",
    "    image_result = image + mult\n",
    "\n",
    "    # Intervalo adequado\n",
    "    image_result = np.clip(image_result, 0, 255).astype('uint8')\n",
    "\n",
    "    cv2.imwrite(\"Blur_Image_\"+input_user,image_blur)\n",
    "    cv2.imwrite(\"HighBoost_filter_\"+input_user,image_result)\n",
    "\n",
    "    # Criação da figura e dos subplots\n",
    "    fig = plt.figure(figsize=(12, 4))\n",
    "\n",
    "    # Primeiro subplot\n",
    "    fig.add_subplot(1, 2, 1)\n",
    "    plt.title('Blur Image')\n",
    "    plt.axis('off')\n",
    "    plt.imshow(image_blur, cmap='gray', vmin=0, vmax=255)\n",
    "\n",
    "    # Segundo subplot\n",
    "    fig.add_subplot(1, 2, 2)\n",
    "    plt.title('HighBoost Filter k='+str(k))\n",
    "    plt.axis('off')\n",
    "    plt.imshow(image_result, cmap='gray', vmin=0, vmax=255)"
   ]
  },
  {
   "cell_type": "code",
   "execution_count": 390,
   "metadata": {},
   "outputs": [
    {
     "ename": "ValueError",
     "evalue": "invalid literal for int() with base 10: ''",
     "output_type": "error",
     "traceback": [
      "\u001b[0;31m---------------------------------------------------------------------------\u001b[0m",
      "\u001b[0;31mValueError\u001b[0m                                Traceback (most recent call last)",
      "\u001b[1;32m/home/vitor/Documentos/PDI_Trab2_Git/HighBoost-filtering/high_boost 2_forma.ipynb Cell 10\u001b[0m line \u001b[0;36m3\n\u001b[1;32m      <a href='vscode-notebook-cell:/home/vitor/Documentos/PDI_Trab2_Git/HighBoost-filtering/high_boost%202_forma.ipynb#X12sZmlsZQ%3D%3D?line=0'>1</a>\u001b[0m user\u001b[39m=\u001b[39m (\u001b[39minput\u001b[39m(\u001b[39m'\u001b[39m\u001b[39mEntre com o tamanho da máscara, k e nome da imagem( Ex: 3 4.5 imagem.jpg):\u001b[39m\u001b[39m'\u001b[39m))\u001b[39m.\u001b[39msplit(\u001b[39m\"\u001b[39m\u001b[39m \u001b[39m\u001b[39m\"\u001b[39m)\n\u001b[0;32m----> <a href='vscode-notebook-cell:/home/vitor/Documentos/PDI_Trab2_Git/HighBoost-filtering/high_boost%202_forma.ipynb#X12sZmlsZQ%3D%3D?line=2'>3</a>\u001b[0m n \u001b[39m=\u001b[39m \u001b[39mint\u001b[39;49m(user[\u001b[39m0\u001b[39;49m])\n\u001b[1;32m      <a href='vscode-notebook-cell:/home/vitor/Documentos/PDI_Trab2_Git/HighBoost-filtering/high_boost%202_forma.ipynb#X12sZmlsZQ%3D%3D?line=3'>4</a>\u001b[0m k \u001b[39m=\u001b[39m \u001b[39mfloat\u001b[39m(user[\u001b[39m1\u001b[39m])\n\u001b[1;32m      <a href='vscode-notebook-cell:/home/vitor/Documentos/PDI_Trab2_Git/HighBoost-filtering/high_boost%202_forma.ipynb#X12sZmlsZQ%3D%3D?line=4'>5</a>\u001b[0m image_name \u001b[39m=\u001b[39m user[\u001b[39m2\u001b[39m]\n",
      "\u001b[0;31mValueError\u001b[0m: invalid literal for int() with base 10: ''"
     ]
    }
   ],
   "source": [
    "user= (input('Entre com o tamanho da máscara, k e nome da imagem( Ex: 3 4.5 imagem.jpg):')).split(\" \")\n",
    "\n",
    "n = int(user[0])\n",
    "k = float(user[1])\n",
    "image_name = user[2]\n",
    "\n",
    "mask = create_mask(n)\n",
    "\n",
    "image  = cv2.imread(image_name,cv2.IMREAD_GRAYSCALE)\n",
    "highBoost(image,mask,k,image_name)"
   ]
  },
  {
   "attachments": {},
   "cell_type": "markdown",
   "metadata": {},
   "source": [
    "<h2>Referêcias<h2>"
   ]
  },
  {
   "attachments": {},
   "cell_type": "markdown",
   "metadata": {},
   "source": [
    "GONZALEZ, Rafael C.; WOODS, Richard E.. Processamento de Imagens Digitais. 3. ed. São Paulo: Pearson,2007"
   ]
  }
 ],
 "metadata": {
  "kernelspec": {
   "display_name": "Python 3",
   "language": "python",
   "name": "python3"
  },
  "language_info": {
   "codemirror_mode": {
    "name": "ipython",
    "version": 3
   },
   "file_extension": ".py",
   "mimetype": "text/x-python",
   "name": "python",
   "nbconvert_exporter": "python",
   "pygments_lexer": "ipython3",
   "version": "3.10.12"
  },
  "orig_nbformat": 4
 },
 "nbformat": 4,
 "nbformat_minor": 2
}
