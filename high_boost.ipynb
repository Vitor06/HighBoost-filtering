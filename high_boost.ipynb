{
 "cells": [
  {
   "attachments": {},
   "cell_type": "markdown",
   "metadata": {},
   "source": [
    "<h1>HighBoost Filtering<h1>"
   ]
  },
  {
   "attachments": {},
   "cell_type": "markdown",
   "metadata": {},
   "source": [
    "Alunos:<br>\n",
    "    Vitor Fernandes Gonçalves da Cruz Ra120116 <br> \n",
    "    Vitor Rodrigues Gôngora RA106769"
   ]
  },
  {
   "attachments": {},
   "cell_type": "markdown",
   "metadata": {},
   "source": [
    "<h2>Introdução<h2>"
   ]
  },
  {
   "attachments": {},
   "cell_type": "markdown",
   "metadata": {},
   "source": [
    "O presente trabalho tem como objetivo receber uma imagem de entrada e aplicar o método  HighBoost Filter através da linguagem de programação python, utilizando o método unsharping mask, no qual consite em subtrair a imagem suavizada da imagem original. O método pode ser descrito pelos seguintes pasoss:<br>\n",
    "1. Blur da imagem original através do filtro da média.\n",
    "2. Subtração a imagem suavizada da imagem original, no qual chamamos de g_mask.\n",
    "3. Multiplicação de um escalar k com g_mask.\n",
    "4. Soma da imagem original com o passo 3.\n",
    "\n",
    "Para aplicar a suavização na imagem, precisa-se de um conceito chamado convolução, no qual é o processo de mover uma máscara, ou kernel, pela imagem e calcular a soma do produto ponto a ponto entre a imagem e a máscara rebatida. Uma máscara rebatida é basicamente uma inversão da máscara original, representada por g̅(x, y) = g(-x, -y). Para se ter o high boost filtering precisa-se que k>1"
   ]
  },
  {
   "cell_type": "code",
   "execution_count": 9,
   "metadata": {},
   "outputs": [],
   "source": [
    "import numpy as np\n",
    "import  cv2\n",
    "import matplotlib.pyplot as plt"
   ]
  },
  {
   "cell_type": "code",
   "execution_count": 10,
   "metadata": {},
   "outputs": [],
   "source": [
    "\n",
    "def shift(dx, dy, image):\n",
    "    x_start = max(0, -dx)\n",
    "    y_start = max(0, -dy)\n",
    "    \n",
    "    x_end = min(image.shape[0], image.shape[0] - dx)\n",
    "    y_end = min(image.shape[1], image.shape[1] - dy)\n",
    "    image = image[x_start:x_end, y_start:y_end]\n",
    "    \n",
    "    #padding de zeros depois que translada a imagem\n",
    "    if(dx<0 and dy<0) :\n",
    "        image = np.pad(image, ((0,-dx),(0,-dy)), mode='constant', constant_values=0)\n",
    "    elif(dx<0 and dy>=0) :\n",
    "        image = np.pad(image, ((0,-dx),(dy,0)), mode='constant', constant_values=0)\n",
    "    elif(dx>=0 and dy<0) :\n",
    "        image = np.pad(image, ((dx,0),(0,-dy)), mode='constant', constant_values=0)\n",
    "    elif(dx>=0 and dy>=0) :\n",
    "        image = np.pad(image, ((dx,0),(dy,0)), mode='constant', constant_values=0)\n",
    "  \n",
    "    return image"
   ]
  },
  {
   "cell_type": "code",
   "execution_count": 11,
   "metadata": {},
   "outputs": [],
   "source": [
    "#Rebate a máscara\n",
    "def inverse_mask(mask):\n",
    "    mask = np.flipud(np.fliplr(mask))\n",
    "    return mask"
   ]
  },
  {
   "cell_type": "code",
   "execution_count": 12,
   "metadata": {},
   "outputs": [],
   "source": [
    "def convolution(mask, image):\n",
    "    mask = inverse_mask(mask) # rebate a mascara\n",
    "    image_conv = np.zeros((image.shape[0],image.shape[1]))\n",
    "    #varrendo a mascara(como mostrado em sala)\n",
    "    for i in range(mask.shape[0]):\n",
    "        for j in range(mask.shape[1]):\n",
    "            #translada a mascara\n",
    "            auxiliar_matrix = shift(i-((mask.shape[0]-1)//2),j-((mask.shape[1]-1)//2),image)#deslocamento\n",
    "            #Multiplica pelos pesos\n",
    "            auxiliar_matrix_multiply_by_weight =  mask[i][j]*auxiliar_matrix\n",
    "            #Acumula\n",
    "            image_conv = image_conv + auxiliar_matrix_multiply_by_weight\n",
    "    return image_conv"
   ]
  },
  {
   "cell_type": "code",
   "execution_count": 13,
   "metadata": {},
   "outputs": [],
   "source": [
    "def average_filter(mask):\n",
    "    total = np.sum(mask)\n",
    "    result_mask = mask/total\n",
    "    return result_mask"
   ]
  },
  {
   "cell_type": "code",
   "execution_count": 14,
   "metadata": {},
   "outputs": [],
   "source": [
    "def create_mask(n):\n",
    "    return np.ones((n,n))"
   ]
  },
  {
   "cell_type": "code",
   "execution_count": 15,
   "metadata": {},
   "outputs": [],
   "source": [
    "\n",
    "def highBoost(image, image_blur, mask,k,input_user):\n",
    "    mask_average_filter = average_filter(mask)\n",
    "\n",
    "    #Faz a convolução em cada banda\n",
    "    image_blur_blue = convolution(mask_average_filter,image_blur[:,:,0])\n",
    "    image_blur[:,:,0] = image_blur_blue\n",
    "\n",
    "    image_blur_greeen = convolution(mask_average_filter,image_blur[:,:,1])\n",
    "    image_blur[:,:,1] = image_blur_greeen\n",
    "\n",
    "    image_blur_red = convolution(mask_average_filter,image_blur[:,:,2])\n",
    "    image_blur[:,:,2] = image_blur_red\n",
    "\n",
    "    g_mask = cv2.subtract(image,image_blur)\n",
    "    mult = (k*g_mask).astype('uint8')\n",
    "    image_result = cv2.add(image,mult)\n",
    "\n",
    "    cv2.imwrite(\"Blur_Image_\"+input_user,image_blur)\n",
    "    cv2.imwrite(\"HighBoost_filter_\"+input_user,image_result)\n",
    "\n",
    "    # Criação da figura e dos subplots\n",
    "    fig = plt.figure(figsize=(12, 4))\n",
    "\n",
    "    # Primeiro subplot\n",
    "    fig.add_subplot(1, 2, 1)\n",
    "    plt.title('Blur Image')\n",
    "    plt.axis('off')\n",
    "    plt.imshow(cv2.cvtColor(image_blur, cv2.COLOR_BGR2RGB))\n",
    "\n",
    "    # Segundo subplot\n",
    "    fig.add_subplot(1, 2, 2)\n",
    "    plt.title('HighBoost Filter k='+str(k))\n",
    "    plt.axis('off')\n",
    "    plt.imshow(cv2.cvtColor(image_result, cv2.COLOR_BGR2RGB))"
   ]
  },
  {
   "cell_type": "code",
   "execution_count": 16,
   "metadata": {},
   "outputs": [
    {
     "ename": "ValueError",
     "evalue": "invalid literal for int() with base 10: '3 4.5 square.tif'",
     "output_type": "error",
     "traceback": [
      "\u001b[0;31m---------------------------------------------------------------------------\u001b[0m",
      "\u001b[0;31mValueError\u001b[0m                                Traceback (most recent call last)",
      "\u001b[1;32m/home/vitor/Documentos/PDI_Trab2_Git/HighBoost-filtering/high_boost.ipynb Cell 12\u001b[0m line \u001b[0;36m1\n\u001b[1;32m      <a href='vscode-notebook-cell:/home/vitor/Documentos/PDI_Trab2_Git/HighBoost-filtering/high_boost.ipynb#X14sZmlsZQ%3D%3D?line=0'>1</a>\u001b[0m \u001b[39m#mask = np.array([[3,2,1],[3,2,1],[3,2,1]])\u001b[39;00m\n\u001b[1;32m      <a href='vscode-notebook-cell:/home/vitor/Documentos/PDI_Trab2_Git/HighBoost-filtering/high_boost.ipynb#X14sZmlsZQ%3D%3D?line=1'>2</a>\u001b[0m \u001b[39m# image = np.array([[1,2 ,3, 2, 8, 4],\u001b[39;00m\n\u001b[1;32m      <a href='vscode-notebook-cell:/home/vitor/Documentos/PDI_Trab2_Git/HighBoost-filtering/high_boost.ipynb#X14sZmlsZQ%3D%3D?line=2'>3</a>\u001b[0m \u001b[39m#                   [1, 2, 5, 1, 2, 3],\u001b[39;00m\n\u001b[0;32m   (...)\u001b[0m\n\u001b[1;32m      <a href='vscode-notebook-cell:/home/vitor/Documentos/PDI_Trab2_Git/HighBoost-filtering/high_boost.ipynb#X14sZmlsZQ%3D%3D?line=7'>8</a>\u001b[0m \u001b[39m# print(image)\u001b[39;00m\n\u001b[1;32m      <a href='vscode-notebook-cell:/home/vitor/Documentos/PDI_Trab2_Git/HighBoost-filtering/high_boost.ipynb#X14sZmlsZQ%3D%3D?line=8'>9</a>\u001b[0m \u001b[39m# convolution(mask,image)\u001b[39;00m\n\u001b[1;32m     <a href='vscode-notebook-cell:/home/vitor/Documentos/PDI_Trab2_Git/HighBoost-filtering/high_boost.ipynb#X14sZmlsZQ%3D%3D?line=9'>10</a>\u001b[0m k  \u001b[39m=\u001b[39m \u001b[39m4.5\u001b[39m\n\u001b[0;32m---> <a href='vscode-notebook-cell:/home/vitor/Documentos/PDI_Trab2_Git/HighBoost-filtering/high_boost.ipynb#X14sZmlsZQ%3D%3D?line=10'>11</a>\u001b[0m n \u001b[39m=\u001b[39m \u001b[39mint\u001b[39;49m(\u001b[39minput\u001b[39;49m(\u001b[39m'\u001b[39;49m\u001b[39mEntre com o tamanho da máscara:\u001b[39;49m\u001b[39m'\u001b[39;49m))\n\u001b[1;32m     <a href='vscode-notebook-cell:/home/vitor/Documentos/PDI_Trab2_Git/HighBoost-filtering/high_boost.ipynb#X14sZmlsZQ%3D%3D?line=11'>12</a>\u001b[0m mask \u001b[39m=\u001b[39m create_mask(n)\n\u001b[1;32m     <a href='vscode-notebook-cell:/home/vitor/Documentos/PDI_Trab2_Git/HighBoost-filtering/high_boost.ipynb#X14sZmlsZQ%3D%3D?line=12'>13</a>\u001b[0m input_user \u001b[39m=\u001b[39m \u001b[39mstr\u001b[39m(\u001b[39minput\u001b[39m(\u001b[39m'\u001b[39m\u001b[39mEntre com o nome da imagem\u001b[39m\u001b[39m'\u001b[39m))\n",
      "\u001b[0;31mValueError\u001b[0m: invalid literal for int() with base 10: '3 4.5 square.tif'"
     ]
    }
   ],
   "source": [
    "#mask = np.array([[3,2,1],[3,2,1],[3,2,1]])\n",
    "# image = np.array([[1,2 ,3, 2, 8, 4],\n",
    "#                   [1, 2, 5, 1, 2, 3],\n",
    "#                   [2, 8, 4, 1, 2, 5],\n",
    "#                   [3, 2, 1, 5, 2, 1],\n",
    "#                   [4, 8, 2, 3, 2, 1],\n",
    "#                   [1, 2, 5, 2, 8, 4]])\n",
    "# print(image)\n",
    "# convolution(mask,image)\n",
    "k  = 4.5\n",
    "n = int(input('Entre com o tamanho da máscara:'))\n",
    "mask = create_mask(n)\n",
    "input_user = str(input('Entre com o nome da imagem'))\n",
    "image  = cv2.imread(input_user)\n",
    "image_blur = image.copy()\n",
    "highBoost(image,image_blur,mask,k,input_user)"
   ]
  },
  {
   "attachments": {},
   "cell_type": "markdown",
   "metadata": {},
   "source": [
    "<h2>Referêcias<h2>"
   ]
  },
  {
   "attachments": {},
   "cell_type": "markdown",
   "metadata": {},
   "source": [
    "GONZALEZ, Rafael C.; WOODS, Richard E.. Processamento de Imagens Digitais. 3. ed. São Paulo: Pearson,2007"
   ]
  }
 ],
 "metadata": {
  "kernelspec": {
   "display_name": "Python 3",
   "language": "python",
   "name": "python3"
  },
  "language_info": {
   "codemirror_mode": {
    "name": "ipython",
    "version": 3
   },
   "file_extension": ".py",
   "mimetype": "text/x-python",
   "name": "python",
   "nbconvert_exporter": "python",
   "pygments_lexer": "ipython3",
   "version": "3.10.12"
  },
  "orig_nbformat": 4
 },
 "nbformat": 4,
 "nbformat_minor": 2
}
