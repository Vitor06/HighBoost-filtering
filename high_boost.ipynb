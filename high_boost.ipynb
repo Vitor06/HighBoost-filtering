{
 "cells": [
  {
   "cell_type": "code",
   "execution_count": 120,
   "metadata": {},
   "outputs": [],
   "source": [
    "import numpy as np\n",
    "import  cv2"
   ]
  },
  {
   "cell_type": "code",
   "execution_count": 121,
   "metadata": {},
   "outputs": [],
   "source": [
    "image  = cv2.imread(\"Fig_340.tif\")\n",
    "image_blur = image.copy()"
   ]
  },
  {
   "cell_type": "code",
   "execution_count": 122,
   "metadata": {},
   "outputs": [],
   "source": [
    "k  = 3"
   ]
  },
  {
   "cell_type": "code",
   "execution_count": 123,
   "metadata": {},
   "outputs": [],
   "source": [
    "\n",
    "def shift(dx, dy, image):\n",
    "    x_start = max(0, -dx)\n",
    "    y_start = max(0, -dy)\n",
    "    \n",
    "    x_end = min(image.shape[0], image.shape[0] - dx)\n",
    "    y_end = min(image.shape[1], image.shape[1] - dy)\n",
    "    image = image[x_start:x_end, y_start:y_end]\n",
    "    #padding de zeros depois que translada a imagem\n",
    "\n",
    "    if(dx<0 and dy<0) :\n",
    "        image = np.pad(image, ((0,-dx),(0,-dy)), mode='constant', constant_values=0)\n",
    "    elif(dx<0 and dy>=0) :\n",
    "        image = np.pad(image, ((0,-dx),(dy,0)), mode='constant', constant_values=0)\n",
    "    elif(dx>=0 and dy<0) :\n",
    "        image = np.pad(image, ((dx,0),(0,-dy)), mode='constant', constant_values=0)\n",
    "    elif(dx>=0 and dy>=0) :\n",
    "        image = np.pad(image, ((dx,0),(dy,0)), mode='constant', constant_values=0)\n",
    "  \n",
    "  \n",
    "    return image"
   ]
  },
  {
   "cell_type": "code",
   "execution_count": 124,
   "metadata": {},
   "outputs": [],
   "source": [
    "def convolution(mask, image):\n",
    "    mask = np.flipud(np.fliplr(mask)) # rebate a mascara\n",
    "    # tam_pad = (mask.shape[0]-1)//2\n",
    "    # image_pad = np.pad(image,tam_pad , 'constant') # zero-padding\n",
    "    # image=image_pad\n",
    "    image_conv = np.zeros((image.shape[0],image.shape[1]))\n",
    "\n",
    "    #varrendo a mascara(como mostrado em sala)\n",
    "    for i in range(mask.shape[0]):\n",
    "        for j in range(mask.shape[1]):\n",
    "            auxiliar_matrix = shift(i-(mask.shape[0]-1//2),j-(mask.shape[0]-1//2),image)#deslocamento\n",
    "            auxiliar_matrix_multiply_by_weight =  auxiliar_matrix*mask[i][j]\n",
    "            image_conv = image_conv + auxiliar_matrix_multiply_by_weight\n",
    "    return image_conv\n",
    "\n",
    "        "
   ]
  },
  {
   "cell_type": "code",
   "execution_count": 125,
   "metadata": {},
   "outputs": [],
   "source": [
    "def average_filter(mask):\n",
    "    total = np.sum(mask)\n",
    "    result_mask = mask/total\n",
    "    return result_mask\n"
   ]
  },
  {
   "cell_type": "code",
   "execution_count": 126,
   "metadata": {},
   "outputs": [
    {
     "data": {
      "text/plain": [
       "True"
      ]
     },
     "execution_count": 126,
     "metadata": {},
     "output_type": "execute_result"
    }
   ],
   "source": [
    "mask = np.array([[3,2,1],[3,2,1],[3,2,1]])\n",
    "# image = np.array([[1,2 ,3, 2, 8, 4],\n",
    "#                   [1, 2, 5, 1, 2, 3],\n",
    "#                   [2, 8, 4, 1, 2, 5],\n",
    "#                   [3, 2, 1, 5, 2, 1],\n",
    "#                   [4, 8, 2, 3, 2, 1],\n",
    "#                   [1, 2, 5, 2, 8, 4]])\n",
    "# print(image)\n",
    "# convolution(mask,image)\n",
    "mask_average_filter = average_filter(mask)\n",
    "\n",
    "image_blur_blue = convolution(mask_average_filter,image_blur[:,:,0])\n",
    "image_blur[:,:,0] = image_blur_blue\n",
    "\n",
    "image_blur_greeen = convolution(mask_average_filter,image_blur[:,:,1])\n",
    "image_blur[:,:,1] = image_blur_greeen\n",
    "\n",
    "image_blur_red = convolution(mask_average_filter,image_blur[:,:,2])\n",
    "image_blur[:,:,2] = image_blur_red\n",
    "\n",
    "\n",
    "g_mask = image  - image_blur\n",
    "image_result = image + (k*g_mask)\n",
    "cv2.imwrite(\"image_result_HighBoost_filter.tif\",image_result)\n",
    "cv2.imwrite(\"image_blur.tif\",image_blur)\n",
    "\n",
    "# print(shift(-1,-1,image))"
   ]
  }
 ],
 "metadata": {
  "kernelspec": {
   "display_name": "Python 3",
   "language": "python",
   "name": "python3"
  },
  "language_info": {
   "codemirror_mode": {
    "name": "ipython",
    "version": 3
   },
   "file_extension": ".py",
   "mimetype": "text/x-python",
   "name": "python",
   "nbconvert_exporter": "python",
   "pygments_lexer": "ipython3",
   "version": "3.10.12"
  },
  "orig_nbformat": 4
 },
 "nbformat": 4,
 "nbformat_minor": 2
}
