{
 "cells": [
  {
   "cell_type": "code",
   "execution_count": 285,
   "metadata": {},
   "outputs": [],
   "source": [
    "import numpy as np\n",
    "import  cv2"
   ]
  },
  {
   "cell_type": "code",
   "execution_count": 286,
   "metadata": {},
   "outputs": [
    {
     "data": {
      "text/plain": [
       "(138, 320, 3)"
      ]
     },
     "execution_count": 286,
     "metadata": {},
     "output_type": "execute_result"
    }
   ],
   "source": [
    "image  = cv2.imread(\"Fig_340.tif\")\n",
    "image.shape"
   ]
  },
  {
   "cell_type": "code",
   "execution_count": 287,
   "metadata": {},
   "outputs": [],
   "source": [
    "k  = 3"
   ]
  },
  {
   "cell_type": "code",
   "execution_count": 292,
   "metadata": {},
   "outputs": [],
   "source": [
    "\n",
    "def shift(dx, dy, image):\n",
    "    x_start = max(0, -dx)\n",
    "    y_start = max(0, -dy)\n",
    "    \n",
    "    x_end = min(image.shape[0], image.shape[0] - dx)\n",
    "    y_end = min(image.shape[1], image.shape[1] - dy)\n",
    "    image = image[x_start:x_end, y_start:y_end]\n",
    "    #padding de zeros depois que translada a imagem\n",
    "\n",
    "    if(dx<0 and dy<0) :\n",
    "        image = np.pad(image, ((0,-dx),(0,-dy)), mode='constant', constant_values=0)\n",
    "    elif(dx<0 and dy>=0) :\n",
    "        image = np.pad(image, ((0,-dx),(dy,0)), mode='constant', constant_values=0)\n",
    "    elif(dx>=0 and dy<0) :\n",
    "        image = np.pad(image, ((dx,0),(0,-dy)), mode='constant', constant_values=0)\n",
    "    elif(dx>=0 and dy>=0) :\n",
    "        image = np.pad(image, ((dx,0),(dy,0)), mode='constant', constant_values=0)\n",
    "  \n",
    "  \n",
    "    return image"
   ]
  },
  {
   "cell_type": "code",
   "execution_count": 289,
   "metadata": {},
   "outputs": [],
   "source": [
    "def convolution(mask, image):\n",
    "    mask = np.flipud(np.fliplr(mask)) # rebate a mascara\n",
    "    # tam_pad = (mask.shape[0]-1)//2\n",
    "    # image_pad = np.pad(image,tam_pad , 'constant') # zero-padding\n",
    "    # image=image_pad\n",
    "    image_conv = np.zeros((image.shape[0],image.shape[0]))\n",
    "\n",
    "    #varrendo a mascara(como mostrado em sala)\n",
    "    for i in range(mask.shape[0]):\n",
    "        for j in range(mask.shape[1]):\n",
    "            auxiliar_matrix = shift(i-(mask.shape[0]-1//2),j-(mask.shape[0]-1//2),image)#deslocamento\n",
    "            auxiliar_matrix_multiply_by_weight =  auxiliar_matrix*mask[i][j]\n",
    "            image_conv = image_conv + auxiliar_matrix_multiply_by_weight\n",
    "    return image_conv\n",
    "\n",
    "        "
   ]
  },
  {
   "cell_type": "code",
   "execution_count": 290,
   "metadata": {},
   "outputs": [],
   "source": [
    "def average_filter(mask):\n",
    "    total = np.sum(mask)\n",
    "    result_mask = mask/total\n",
    "    return result_mask\n"
   ]
  },
  {
   "cell_type": "code",
   "execution_count": 291,
   "metadata": {},
   "outputs": [
    {
     "ename": "ValueError",
     "evalue": "operands could not be broadcast together with remapped shapes [original->remapped]: (2,2)  and requested shape (3,2)",
     "output_type": "error",
     "traceback": [
      "\u001b[0;31m---------------------------------------------------------------------------\u001b[0m",
      "\u001b[0;31mValueError\u001b[0m                                Traceback (most recent call last)",
      "\u001b[1;32m/home/vitor/Documentos/PDI/Trabalho2/high_boost.ipynb Cell 7\u001b[0m line \u001b[0;36m1\n\u001b[1;32m      <a href='vscode-notebook-cell:/home/vitor/Documentos/PDI/Trabalho2/high_boost.ipynb#W3sZmlsZQ%3D%3D?line=0'>1</a>\u001b[0m mask \u001b[39m=\u001b[39m np\u001b[39m.\u001b[39marray([[\u001b[39m3\u001b[39m,\u001b[39m2\u001b[39m,\u001b[39m1\u001b[39m],[\u001b[39m3\u001b[39m,\u001b[39m2\u001b[39m,\u001b[39m1\u001b[39m],[\u001b[39m3\u001b[39m,\u001b[39m2\u001b[39m,\u001b[39m1\u001b[39m]])\n\u001b[1;32m      <a href='vscode-notebook-cell:/home/vitor/Documentos/PDI/Trabalho2/high_boost.ipynb#W3sZmlsZQ%3D%3D?line=1'>2</a>\u001b[0m \u001b[39m# image = np.array([[1,2 ,3, 2, 8, 4],\u001b[39;00m\n\u001b[1;32m      <a href='vscode-notebook-cell:/home/vitor/Documentos/PDI/Trabalho2/high_boost.ipynb#W3sZmlsZQ%3D%3D?line=2'>3</a>\u001b[0m \u001b[39m#                   [1, 2, 5, 1, 2, 3],\u001b[39;00m\n\u001b[1;32m      <a href='vscode-notebook-cell:/home/vitor/Documentos/PDI/Trabalho2/high_boost.ipynb#W3sZmlsZQ%3D%3D?line=3'>4</a>\u001b[0m \u001b[39m#                   [2, 8, 4, 1, 2, 5],\u001b[39;00m\n\u001b[0;32m   (...)\u001b[0m\n\u001b[1;32m      <a href='vscode-notebook-cell:/home/vitor/Documentos/PDI/Trabalho2/high_boost.ipynb#W3sZmlsZQ%3D%3D?line=8'>9</a>\u001b[0m \u001b[39m# convolution(mask,image)\u001b[39;00m\n\u001b[1;32m     <a href='vscode-notebook-cell:/home/vitor/Documentos/PDI/Trabalho2/high_boost.ipynb#W3sZmlsZQ%3D%3D?line=9'>10</a>\u001b[0m \u001b[39m# mask_average_filter = average_filter(mask)\u001b[39;00m\n\u001b[0;32m---> <a href='vscode-notebook-cell:/home/vitor/Documentos/PDI/Trabalho2/high_boost.ipynb#W3sZmlsZQ%3D%3D?line=10'>11</a>\u001b[0m image_blur \u001b[39m=\u001b[39m convolution(mask,image)\n\u001b[1;32m     <a href='vscode-notebook-cell:/home/vitor/Documentos/PDI/Trabalho2/high_boost.ipynb#W3sZmlsZQ%3D%3D?line=12'>13</a>\u001b[0m \u001b[39m# g_mask = image  - image_blur\u001b[39;00m\n\u001b[1;32m     <a href='vscode-notebook-cell:/home/vitor/Documentos/PDI/Trabalho2/high_boost.ipynb#W3sZmlsZQ%3D%3D?line=13'>14</a>\u001b[0m \u001b[39m# image_result = image + (k*g_mask)\u001b[39;00m\n\u001b[1;32m     <a href='vscode-notebook-cell:/home/vitor/Documentos/PDI/Trabalho2/high_boost.ipynb#W3sZmlsZQ%3D%3D?line=14'>15</a>\u001b[0m \u001b[39m# cv2.imwrite(\"image_result_HighBoost_filter.tif\",image_result)\u001b[39;00m\n\u001b[1;32m     <a href='vscode-notebook-cell:/home/vitor/Documentos/PDI/Trabalho2/high_boost.ipynb#W3sZmlsZQ%3D%3D?line=15'>16</a>\u001b[0m \u001b[39m# print(shift(-1,-1,image))\u001b[39;00m\n",
      "\u001b[1;32m/home/vitor/Documentos/PDI/Trabalho2/high_boost.ipynb Cell 7\u001b[0m line \u001b[0;36m1\n\u001b[1;32m      <a href='vscode-notebook-cell:/home/vitor/Documentos/PDI/Trabalho2/high_boost.ipynb#W3sZmlsZQ%3D%3D?line=8'>9</a>\u001b[0m \u001b[39mfor\u001b[39;00m i \u001b[39min\u001b[39;00m \u001b[39mrange\u001b[39m(mask\u001b[39m.\u001b[39mshape[\u001b[39m0\u001b[39m]):\n\u001b[1;32m     <a href='vscode-notebook-cell:/home/vitor/Documentos/PDI/Trabalho2/high_boost.ipynb#W3sZmlsZQ%3D%3D?line=9'>10</a>\u001b[0m     \u001b[39mfor\u001b[39;00m j \u001b[39min\u001b[39;00m \u001b[39mrange\u001b[39m(mask\u001b[39m.\u001b[39mshape[\u001b[39m1\u001b[39m]):\n\u001b[0;32m---> <a href='vscode-notebook-cell:/home/vitor/Documentos/PDI/Trabalho2/high_boost.ipynb#W3sZmlsZQ%3D%3D?line=10'>11</a>\u001b[0m         auxiliar_matrix \u001b[39m=\u001b[39m shift(i\u001b[39m-\u001b[39;49m(mask\u001b[39m.\u001b[39;49mshape[\u001b[39m0\u001b[39;49m]\u001b[39m-\u001b[39;49m\u001b[39m1\u001b[39;49m\u001b[39m/\u001b[39;49m\u001b[39m/\u001b[39;49m\u001b[39m2\u001b[39;49m),j\u001b[39m-\u001b[39;49m(mask\u001b[39m.\u001b[39;49mshape[\u001b[39m0\u001b[39;49m]\u001b[39m-\u001b[39;49m\u001b[39m1\u001b[39;49m\u001b[39m/\u001b[39;49m\u001b[39m/\u001b[39;49m\u001b[39m2\u001b[39;49m),image)\u001b[39m#deslocamento\u001b[39;00m\n\u001b[1;32m     <a href='vscode-notebook-cell:/home/vitor/Documentos/PDI/Trabalho2/high_boost.ipynb#W3sZmlsZQ%3D%3D?line=11'>12</a>\u001b[0m         auxiliar_matrix_multiply_by_weight \u001b[39m=\u001b[39m  auxiliar_matrix\u001b[39m*\u001b[39mmask[i][j]\n\u001b[1;32m     <a href='vscode-notebook-cell:/home/vitor/Documentos/PDI/Trabalho2/high_boost.ipynb#W3sZmlsZQ%3D%3D?line=12'>13</a>\u001b[0m         image_conv \u001b[39m=\u001b[39m image_conv \u001b[39m+\u001b[39m auxiliar_matrix_multiply_by_weight\n",
      "\u001b[1;32m/home/vitor/Documentos/PDI/Trabalho2/high_boost.ipynb Cell 7\u001b[0m line \u001b[0;36m1\n\u001b[1;32m      <a href='vscode-notebook-cell:/home/vitor/Documentos/PDI/Trabalho2/high_boost.ipynb#W3sZmlsZQ%3D%3D?line=7'>8</a>\u001b[0m \u001b[39m#padding de zeros depois que translada a imagem\u001b[39;00m\n\u001b[1;32m     <a href='vscode-notebook-cell:/home/vitor/Documentos/PDI/Trabalho2/high_boost.ipynb#W3sZmlsZQ%3D%3D?line=9'>10</a>\u001b[0m \u001b[39mif\u001b[39;00m(dx\u001b[39m<\u001b[39m\u001b[39m0\u001b[39m \u001b[39mand\u001b[39;00m dy\u001b[39m<\u001b[39m\u001b[39m0\u001b[39m) :\n\u001b[0;32m---> <a href='vscode-notebook-cell:/home/vitor/Documentos/PDI/Trabalho2/high_boost.ipynb#W3sZmlsZQ%3D%3D?line=10'>11</a>\u001b[0m     image \u001b[39m=\u001b[39m np\u001b[39m.\u001b[39;49mpad(image, ((\u001b[39m0\u001b[39;49m,\u001b[39m-\u001b[39;49mdx),(\u001b[39m0\u001b[39;49m,\u001b[39m-\u001b[39;49mdy)), mode\u001b[39m=\u001b[39;49m\u001b[39m'\u001b[39;49m\u001b[39mconstant\u001b[39;49m\u001b[39m'\u001b[39;49m, constant_values\u001b[39m=\u001b[39;49m\u001b[39m0\u001b[39;49m)\n\u001b[1;32m     <a href='vscode-notebook-cell:/home/vitor/Documentos/PDI/Trabalho2/high_boost.ipynb#W3sZmlsZQ%3D%3D?line=11'>12</a>\u001b[0m \u001b[39melif\u001b[39;00m(dx\u001b[39m<\u001b[39m\u001b[39m0\u001b[39m \u001b[39mand\u001b[39;00m dy\u001b[39m>\u001b[39m\u001b[39m=\u001b[39m\u001b[39m0\u001b[39m) :\n\u001b[1;32m     <a href='vscode-notebook-cell:/home/vitor/Documentos/PDI/Trabalho2/high_boost.ipynb#W3sZmlsZQ%3D%3D?line=12'>13</a>\u001b[0m     image \u001b[39m=\u001b[39m np\u001b[39m.\u001b[39mpad(image, ((\u001b[39m0\u001b[39m,\u001b[39m-\u001b[39mdx),(dy,\u001b[39m0\u001b[39m)), mode\u001b[39m=\u001b[39m\u001b[39m'\u001b[39m\u001b[39mconstant\u001b[39m\u001b[39m'\u001b[39m, constant_values\u001b[39m=\u001b[39m\u001b[39m0\u001b[39m)\n",
      "File \u001b[0;32m<__array_function__ internals>:200\u001b[0m, in \u001b[0;36mpad\u001b[0;34m(*args, **kwargs)\u001b[0m\n",
      "File \u001b[0;32m~/.local/lib/python3.10/site-packages/numpy/lib/arraypad.py:744\u001b[0m, in \u001b[0;36mpad\u001b[0;34m(array, pad_width, mode, **kwargs)\u001b[0m\n\u001b[1;32m    741\u001b[0m     \u001b[39mraise\u001b[39;00m \u001b[39mTypeError\u001b[39;00m(\u001b[39m'\u001b[39m\u001b[39m`pad_width` must be of integral type.\u001b[39m\u001b[39m'\u001b[39m)\n\u001b[1;32m    743\u001b[0m \u001b[39m# Broadcast to shape (array.ndim, 2)\u001b[39;00m\n\u001b[0;32m--> 744\u001b[0m pad_width \u001b[39m=\u001b[39m _as_pairs(pad_width, array\u001b[39m.\u001b[39;49mndim, as_index\u001b[39m=\u001b[39;49m\u001b[39mTrue\u001b[39;49;00m)\n\u001b[1;32m    746\u001b[0m \u001b[39mif\u001b[39;00m \u001b[39mcallable\u001b[39m(mode):\n\u001b[1;32m    747\u001b[0m     \u001b[39m# Old behavior: Use user-supplied function with np.apply_along_axis\u001b[39;00m\n\u001b[1;32m    748\u001b[0m     function \u001b[39m=\u001b[39m mode\n",
      "File \u001b[0;32m~/.local/lib/python3.10/site-packages/numpy/lib/arraypad.py:518\u001b[0m, in \u001b[0;36m_as_pairs\u001b[0;34m(x, ndim, as_index)\u001b[0m\n\u001b[1;32m    514\u001b[0m     \u001b[39mraise\u001b[39;00m \u001b[39mValueError\u001b[39;00m(\u001b[39m\"\u001b[39m\u001b[39mindex can\u001b[39m\u001b[39m'\u001b[39m\u001b[39mt contain negative values\u001b[39m\u001b[39m\"\u001b[39m)\n\u001b[1;32m    516\u001b[0m \u001b[39m# Converting the array with `tolist` seems to improve performance\u001b[39;00m\n\u001b[1;32m    517\u001b[0m \u001b[39m# when iterating and indexing the result (see usage in `pad`)\u001b[39;00m\n\u001b[0;32m--> 518\u001b[0m \u001b[39mreturn\u001b[39;00m np\u001b[39m.\u001b[39;49mbroadcast_to(x, (ndim, \u001b[39m2\u001b[39;49m))\u001b[39m.\u001b[39mtolist()\n",
      "File \u001b[0;32m<__array_function__ internals>:200\u001b[0m, in \u001b[0;36mbroadcast_to\u001b[0;34m(*args, **kwargs)\u001b[0m\n",
      "File \u001b[0;32m~/.local/lib/python3.10/site-packages/numpy/lib/stride_tricks.py:413\u001b[0m, in \u001b[0;36mbroadcast_to\u001b[0;34m(array, shape, subok)\u001b[0m\n\u001b[1;32m    367\u001b[0m \u001b[39m@array_function_dispatch\u001b[39m(_broadcast_to_dispatcher, module\u001b[39m=\u001b[39m\u001b[39m'\u001b[39m\u001b[39mnumpy\u001b[39m\u001b[39m'\u001b[39m)\n\u001b[1;32m    368\u001b[0m \u001b[39mdef\u001b[39;00m \u001b[39mbroadcast_to\u001b[39m(array, shape, subok\u001b[39m=\u001b[39m\u001b[39mFalse\u001b[39;00m):\n\u001b[1;32m    369\u001b[0m \u001b[39m    \u001b[39m\u001b[39m\"\"\"Broadcast an array to a new shape.\u001b[39;00m\n\u001b[1;32m    370\u001b[0m \n\u001b[1;32m    371\u001b[0m \u001b[39m    Parameters\u001b[39;00m\n\u001b[0;32m   (...)\u001b[0m\n\u001b[1;32m    411\u001b[0m \u001b[39m           [1, 2, 3]])\u001b[39;00m\n\u001b[1;32m    412\u001b[0m \u001b[39m    \"\"\"\u001b[39;00m\n\u001b[0;32m--> 413\u001b[0m     \u001b[39mreturn\u001b[39;00m _broadcast_to(array, shape, subok\u001b[39m=\u001b[39;49msubok, readonly\u001b[39m=\u001b[39;49m\u001b[39mTrue\u001b[39;49;00m)\n",
      "File \u001b[0;32m~/.local/lib/python3.10/site-packages/numpy/lib/stride_tricks.py:349\u001b[0m, in \u001b[0;36m_broadcast_to\u001b[0;34m(array, shape, subok, readonly)\u001b[0m\n\u001b[1;32m    346\u001b[0m     \u001b[39mraise\u001b[39;00m \u001b[39mValueError\u001b[39;00m(\u001b[39m'\u001b[39m\u001b[39mall elements of broadcast shape must be non-\u001b[39m\u001b[39m'\u001b[39m\n\u001b[1;32m    347\u001b[0m                      \u001b[39m'\u001b[39m\u001b[39mnegative\u001b[39m\u001b[39m'\u001b[39m)\n\u001b[1;32m    348\u001b[0m extras \u001b[39m=\u001b[39m []\n\u001b[0;32m--> 349\u001b[0m it \u001b[39m=\u001b[39m np\u001b[39m.\u001b[39;49mnditer(\n\u001b[1;32m    350\u001b[0m     (array,), flags\u001b[39m=\u001b[39;49m[\u001b[39m'\u001b[39;49m\u001b[39mmulti_index\u001b[39;49m\u001b[39m'\u001b[39;49m, \u001b[39m'\u001b[39;49m\u001b[39mrefs_ok\u001b[39;49m\u001b[39m'\u001b[39;49m, \u001b[39m'\u001b[39;49m\u001b[39mzerosize_ok\u001b[39;49m\u001b[39m'\u001b[39;49m] \u001b[39m+\u001b[39;49m extras,\n\u001b[1;32m    351\u001b[0m     op_flags\u001b[39m=\u001b[39;49m[\u001b[39m'\u001b[39;49m\u001b[39mreadonly\u001b[39;49m\u001b[39m'\u001b[39;49m], itershape\u001b[39m=\u001b[39;49mshape, order\u001b[39m=\u001b[39;49m\u001b[39m'\u001b[39;49m\u001b[39mC\u001b[39;49m\u001b[39m'\u001b[39;49m)\n\u001b[1;32m    352\u001b[0m \u001b[39mwith\u001b[39;00m it:\n\u001b[1;32m    353\u001b[0m     \u001b[39m# never really has writebackifcopy semantics\u001b[39;00m\n\u001b[1;32m    354\u001b[0m     broadcast \u001b[39m=\u001b[39m it\u001b[39m.\u001b[39mitviews[\u001b[39m0\u001b[39m]\n",
      "\u001b[0;31mValueError\u001b[0m: operands could not be broadcast together with remapped shapes [original->remapped]: (2,2)  and requested shape (3,2)"
     ]
    }
   ],
   "source": [
    "mask = np.array([[3,2,1],[3,2,1],[3,2,1]])\n",
    "# image = np.array([[1,2 ,3, 2, 8, 4],\n",
    "#                   [1, 2, 5, 1, 2, 3],\n",
    "#                   [2, 8, 4, 1, 2, 5],\n",
    "#                   [3, 2, 1, 5, 2, 1],\n",
    "#                   [4, 8, 2, 3, 2, 1],\n",
    "#                   [1, 2, 5, 2, 8, 4]])\n",
    "# print(image)\n",
    "# convolution(mask,image)\n",
    "# mask_average_filter = average_filter(mask)\n",
    "image_blur = convolution(mask,image)\n",
    "\n",
    "# g_mask = image  - image_blur\n",
    "# image_result = image + (k*g_mask)\n",
    "# cv2.imwrite(\"image_result_HighBoost_filter.tif\",image_result)\n",
    "# print(shift(-1,-1,image))"
   ]
  }
 ],
 "metadata": {
  "kernelspec": {
   "display_name": "Python 3",
   "language": "python",
   "name": "python3"
  },
  "language_info": {
   "codemirror_mode": {
    "name": "ipython",
    "version": 3
   },
   "file_extension": ".py",
   "mimetype": "text/x-python",
   "name": "python",
   "nbconvert_exporter": "python",
   "pygments_lexer": "ipython3",
   "version": "3.10.12"
  },
  "orig_nbformat": 4
 },
 "nbformat": 4,
 "nbformat_minor": 2
}
